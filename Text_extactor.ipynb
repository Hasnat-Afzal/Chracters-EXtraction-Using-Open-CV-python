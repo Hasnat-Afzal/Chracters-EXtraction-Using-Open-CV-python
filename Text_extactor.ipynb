{
 "cells": [
  {
   "cell_type": "markdown",
   "id": "1b6d2621",
   "metadata": {},
   "source": [
    "# Extracting Columns, Lines, Words, Chracters"
   ]
  },
  {
   "cell_type": "markdown",
   "id": "f5d0e40e",
   "metadata": {},
   "source": [
    "#### NOTE : IMAGE MUST BE IN FORMAT PNG, JPEG OR JPEG"
   ]
  },
  {
   "cell_type": "markdown",
   "id": "e66e4e44",
   "metadata": {},
   "source": [
    "Libraries"
   ]
  },
  {
   "cell_type": "code",
   "execution_count": 1,
   "id": "c9e9abec",
   "metadata": {},
   "outputs": [],
   "source": [
    "import cv2 as cv\n",
    "import numpy as np\n",
    "import os"
   ]
  },
  {
   "cell_type": "markdown",
   "id": "63076571",
   "metadata": {},
   "source": [
    "Stack"
   ]
  },
  {
   "cell_type": "code",
   "execution_count": 2,
   "id": "5dedaceb",
   "metadata": {},
   "outputs": [],
   "source": [
    "class stack:\n",
    "    def __init__(self):\n",
    "        self.array=list()\n",
    "        \n",
    "    def push(self,value):\n",
    "        self.array.append(value)\n",
    "        \n",
    "    def pop(self):\n",
    "        return self.array.pop()\n",
    "    \n",
    "    def is_empty(self):\n",
    "        if len(self.array)==0:\n",
    "            return True\n",
    "        else:\n",
    "            return False"
   ]
  },
  {
   "cell_type": "markdown",
   "id": "6fead32a",
   "metadata": {},
   "source": [
    "It converts any image to binary(black-white) image and create matrix of image in 0/1 format."
   ]
  },
  {
   "cell_type": "code",
   "execution_count": 3,
   "id": "b65a99f6",
   "metadata": {},
   "outputs": [],
   "source": [
    "def create_matrix(image):\n",
    "    if len(image.shape)==3:\n",
    "        image=cv.cvtColor(image,cv.COLOR_BGR2GRAY)\n",
    "    (thresh, image) = cv.threshold(image, 127, 255, cv.THRESH_BINARY)\n",
    "    image[image == 0] = 1   # black pixels set to 1\n",
    "    image[image == 255] = 0 # white pixels set to 0\n",
    "    return image\n",
    "    "
   ]
  },
  {
   "cell_type": "markdown",
   "id": "e9eb9b74",
   "metadata": {},
   "source": [
    "It converts 0/1 format of image to displayable form.  \n",
    "0-Pixel Value for White Color.  \n",
    "1-Pixel Value for Black color."
   ]
  },
  {
   "cell_type": "code",
   "execution_count": 4,
   "id": "5a57edff",
   "metadata": {},
   "outputs": [],
   "source": [
    "def display_form(image):\n",
    "    image[image == 0] = 255 # white pixels set to 255\n",
    "    image[image == 1] = 0   # black pixels set to 0\n",
    "    return image"
   ]
  },
  {
   "cell_type": "markdown",
   "id": "88df8c43",
   "metadata": {},
   "source": [
    "It removes the images that contaion only background from the output."
   ]
  },
  {
   "cell_type": "code",
   "execution_count": 5,
   "id": "e6cf246e",
   "metadata": {},
   "outputs": [],
   "source": [
    "def clean_output(output):\n",
    "    out1=list()\n",
    "    flag=True\n",
    "    for i in output:\n",
    "        for j in i:\n",
    "            for k in j:\n",
    "                if k!=255:\n",
    "                    flag=False\n",
    "                    break\n",
    "            if flag==False:\n",
    "                break\n",
    "        if flag==False:\n",
    "            out1.append(i)\n",
    "            flag=True\n",
    "    return out1"
   ]
  },
  {
   "cell_type": "code",
   "execution_count": 6,
   "id": "cf27e02a",
   "metadata": {},
   "outputs": [],
   "source": [
    "def get_image_name(image):\n",
    "    if image.endswith(\".jpg\"):\n",
    "        return image.removesuffix(\".jpg\")\n",
    "    elif image.endswith(\".JPG\"):\n",
    "        return image.removesuffix(\".JPG\")\n",
    "    elif image.endswith(\".png\"):\n",
    "        return image.removesuffix(\".png\")\n",
    "    elif image.endswith(\".PNG\"):\n",
    "        return image.removesuffix(\".PNG\")"
   ]
  },
  {
   "cell_type": "code",
   "execution_count": 7,
   "id": "af71effe",
   "metadata": {},
   "outputs": [],
   "source": [
    "def clean_chracters(char):\n",
    "    flag=bool()\n",
    "    for i in char:\n",
    "        for j in i:\n",
    "            if j==0:\n",
    "                flag=True\n",
    "            elif j==255:\n",
    "                flag=False\n",
    "    return flag\n",
    "                    \n",
    "                "
   ]
  },
  {
   "cell_type": "code",
   "execution_count": 8,
   "id": "9b46e79a",
   "metadata": {},
   "outputs": [],
   "source": [
    "def show_image(image):\n",
    "    cv.imshow(\"image\",image)\n",
    "    cv.waitKey(0)\n",
    "    cv.destroyAllWindows()"
   ]
  },
  {
   "cell_type": "markdown",
   "id": "03c9b64b",
   "metadata": {},
   "source": [
    "It Calculates the values for vertical histogram of the given image."
   ]
  },
  {
   "cell_type": "code",
   "execution_count": 9,
   "id": "e6af814e",
   "metadata": {},
   "outputs": [],
   "source": [
    "def vertical_histogram(image):\n",
    "    hist = np.sum(image, axis=0)\n",
    "    return hist"
   ]
  },
  {
   "cell_type": "markdown",
   "id": "30a812c4",
   "metadata": {},
   "source": [
    "It Calculates the values for horizontal histogram of the image."
   ]
  },
  {
   "cell_type": "code",
   "execution_count": 10,
   "id": "b89ad4b7",
   "metadata": {},
   "outputs": [],
   "source": [
    "def horizontal_histogram(image):\n",
    "    hist = np.sum(image, axis=1)\n",
    "    return hist"
   ]
  },
  {
   "cell_type": "markdown",
   "id": "da47c55c",
   "metadata": {},
   "source": [
    "### Extract Columns "
   ]
  },
  {
   "cell_type": "code",
   "execution_count": 11,
   "id": "12cd03bd",
   "metadata": {},
   "outputs": [],
   "source": [
    "def extract_columns(image,image_name,max_range=50):\n",
    "    image_name=get_image_name(image_name)\n",
    "    image_counter=1\n",
    "    path=os.getcwd()\n",
    "    print(image_name)\n",
    "    directory_path=path+\"//\"+\"Column\"\n",
    "    image=create_matrix(image)\n",
    "    histogram=vertical_histogram(image)\n",
    "    count=0\n",
    "    img_counter=1\n",
    "    index=list()\n",
    "    for i in range(len(histogram)):\n",
    "        if histogram[i]==0:\n",
    "            count+=1\n",
    "            if count==max_range:\n",
    "                index.append(i)\n",
    "                count=0\n",
    "        else:\n",
    "            count=0\n",
    "    temp =np.copy(image)\n",
    "    output=np.hsplit(temp,index)\n",
    "    for i in output:\n",
    "        i=display_form(i)\n",
    "    output=clean_output(output)\n",
    "    if not os.path.exists(directory_path):\n",
    "        os.mkdir(directory_path)\n",
    "    os.chdir(directory_path)\n",
    "    for i in output:\n",
    "        name=image_name+\"_Column_\"+str(image_counter)\n",
    "        cv.imwrite(name+\".jpg\",i)\n",
    "        print(\"Saving Column \"+str(image_counter))\n",
    "        image_counter+=1\n",
    "    os.chdir(\"..\")\n",
    "    return image_name+\"_Column_\" , output     "
   ]
  },
  {
   "cell_type": "markdown",
   "id": "481eaf53",
   "metadata": {},
   "source": [
    "### Extract Lines"
   ]
  },
  {
   "cell_type": "code",
   "execution_count": 12,
   "id": "d354e2c9",
   "metadata": {},
   "outputs": [],
   "source": [
    "def extract_lines(image,image_name,max_range=15):\n",
    "    image=create_matrix(image)\n",
    "    histogram=horizontal_histogram(image)\n",
    "    path=os.getcwd()\n",
    "    directory_path=path+\"//\"+\"Lines\"\n",
    "    count=0\n",
    "    image_counter=1\n",
    "    index=list()\n",
    "    for i in range(len(histogram)):\n",
    "        if histogram[i]==0:\n",
    "            count+=1\n",
    "            if count==max_range:\n",
    "                index.append(i)\n",
    "                count=0        \n",
    "        else:\n",
    "            count=0\n",
    "    temp=np.copy(image)\n",
    "    output=np.vsplit(temp,index)\n",
    "    for i in output:\n",
    "        i=display_form(i)\n",
    "    output=clean_output(output)\n",
    "    if not os.path.exists(directory_path):\n",
    "        os.mkdir(directory_path)\n",
    "    os.chdir(directory_path)\n",
    "    for i in output:\n",
    "        cv.imwrite(image_name+\"_line_\"+str(image_counter)+\".jpg\",i)\n",
    "        print(\"saving line \"+str(image_counter))\n",
    "        image_counter+=1\n",
    "    os.chdir(\"..\")\n",
    "    return image_name+\"_line_\", output     "
   ]
  },
  {
   "cell_type": "markdown",
   "id": "987aaac3",
   "metadata": {},
   "source": [
    "### Extract words"
   ]
  },
  {
   "cell_type": "code",
   "execution_count": 13,
   "id": "ab11ec4b",
   "metadata": {},
   "outputs": [],
   "source": [
    "def extract_words(image,image_name,max_range=4):\n",
    "    path=os.getcwd()\n",
    "    directory_path=path+\"//\"+\"Words\"\n",
    "    image_counter=1\n",
    "    image=create_matrix(image)\n",
    "    histogram=vertical_histogram(image)\n",
    "    count=0\n",
    "    index=list()\n",
    "    for i in range(len(histogram)):\n",
    "        if histogram[i]==0:\n",
    "            count+=1\n",
    "            if count==max_range:\n",
    "                index.append(i)\n",
    "                count=0\n",
    "        else:\n",
    "            count=0\n",
    "    temp =np.copy(image)\n",
    "    output=np.hsplit(temp,index)\n",
    "    for i in output:\n",
    "        i=display_form(i)\n",
    "    output=clean_output(output)\n",
    "    if not os.path.exists(directory_path):\n",
    "        os.mkdir(directory_path)\n",
    "    os.chdir(directory_path)\n",
    "    for i in output:\n",
    "        cv.imwrite(image_name+\"_word_\"+str(image_counter)+\".jpg\",i)\n",
    "        print(\"saving word \"+str(image_counter))\n",
    "        image_counter+=1\n",
    "    os.chdir(\"..\")    \n",
    "    return image_name+\"_word_\" , output\n",
    "    "
   ]
  },
  {
   "cell_type": "markdown",
   "id": "68526b72",
   "metadata": {},
   "source": [
    "### Extract Chracters"
   ]
  },
  {
   "cell_type": "code",
   "execution_count": 14,
   "id": "e88c2c4c",
   "metadata": {},
   "outputs": [],
   "source": [
    "def extract_chracters(image,image_name):\n",
    "    path=os.getcwd()\n",
    "    directory_path=path+\"//\"+\"Chracters\"\n",
    "    image_counter=1\n",
    "    point_array=connected_components(image)\n",
    "    chracters=list()\n",
    "    for i in point_array:\n",
    "        for j in i:\n",
    "            x_array=list()\n",
    "            y_array=list()\n",
    "            for k in i:\n",
    "                x_array.append(k[0])\n",
    "                y_array.append(k[1])\n",
    "            height=max(x_array)-min(x_array)+1\n",
    "            width=max(y_array)-min(y_array)+1\n",
    "            char=np.zeros((height,width),dtype=\"uint8\")\n",
    "            for k in i:\n",
    "                char[k[0]-min(x_array)][k[1]-min(y_array)]=1\n",
    "            char[char == 1] = 2 \n",
    "            char[char == 0] = 255 \n",
    "            char[char == 2] = 0  \n",
    "        chracters.append(char)\n",
    "        new_chracters=list()\n",
    "        for i in chracters:\n",
    "            result=clean_chracters(i)\n",
    "            if result==False:\n",
    "                new_chracters.append(i)\n",
    "    if not os.path.exists(directory_path):\n",
    "        os.mkdir(directory_path)\n",
    "    os.chdir(directory_path)\n",
    "    for i in new_chracters:\n",
    "        cv.imwrite(image_name+\"_chracter_\"+str(image_counter)+\".jpg\",i)\n",
    "        print(\"saving chracter \"+str(image_counter))\n",
    "        image_counter+=1\n",
    "    os.chdir(\"..\") "
   ]
  },
  {
   "cell_type": "code",
   "execution_count": 15,
   "id": "efe6eb63",
   "metadata": {},
   "outputs": [],
   "source": [
    "def connected_components(image):\n",
    "    X=[0,-1,-1,-1,0,1,1,1]\n",
    "    Y=[1,1,0,-1,-1,-1,0,1]\n",
    "\n",
    "    obj=stack()\n",
    "    final_point_array=list()\n",
    "    i=0\n",
    "    j=0\n",
    "    count=0\n",
    "    while i < len(image):\n",
    "        while j < len(image[0]):\n",
    "            flag= True\n",
    "            pass_flag=True\n",
    "            point_array=list()\n",
    "            m=int()\n",
    "            n=int()\n",
    "            if image[i][j]==1:\n",
    "                obj.push((i,j))\n",
    "                while flag:\n",
    "                    center_pixel=obj.pop()\n",
    "                    n=center_pixel[0]\n",
    "                    m=center_pixel[1]\n",
    "                    if image[n][m]==1:\n",
    "                        point_array.append(center_pixel)\n",
    "                        image[n][m]=3\n",
    "                    for k in range(len(X)):\n",
    "                        row=n+X[k]\n",
    "                        column=m+Y[k]\n",
    "                        if row < 0 or column < 0 or row >= len(image) or column >= len(image[0]):\n",
    "                            pass\n",
    "                        else:\n",
    "                            if image[row][column]==1:\n",
    "                                center_pixel=obj.push((row,column))\n",
    "                            elif obj.is_empty():\n",
    "                                count+=1\n",
    "                                i=0\n",
    "                                j=0\n",
    "                                pass_flag=False\n",
    "                                flag=False\n",
    "                final_point_array.append(point_array)\n",
    "            else:\n",
    "                if pass_flag:\n",
    "                    j+=1\n",
    "        if pass_flag:\n",
    "            i+=1\n",
    "            j=0\n",
    "    return final_point_array"
   ]
  },
  {
   "cell_type": "code",
   "execution_count": 16,
   "id": "91dba207",
   "metadata": {},
   "outputs": [],
   "source": [
    "def text_extractor(path):\n",
    "    os.chdir(path)\n",
    "    files=os.listdir()\n",
    "    image_files=list()\n",
    "    column_num=1\n",
    "    line_num=1\n",
    "    word_num=1\n",
    "    for i in files:\n",
    "        if i.endswith(\".jpg\") or i.endswith(\".JPG\") or i.endswith(\".PNG\") or i.endswith(\".png\") or i.endswith(\".JPEG\") or i.endswith(\".jpeg\"):\n",
    "            image_files.append(i)  \n",
    "    for i in image_files:\n",
    "        image=cv.imread(i)\n",
    "        image_name , columns=extract_columns(image,i)  # Seperate out columns from an image 4\n",
    "        for j in columns:\n",
    "            image_name,lines=extract_lines(j,image_name+str(column_num),line_num)\n",
    "            for k in lines:    \n",
    "                image_name , words=extract_words(k,image_name+str(line_num))\n",
    "                for l in words:\n",
    "#                     test=np.copy(l)\n",
    "                    l[l == 0] = 1   # black pixels set to 1\n",
    "                    l[l == 255] = 0 # white pixels set to 0\n",
    "                    extract_chracters(l,image_name+str(word_num))\n",
    "                    word_num+=1\n",
    "                line_num+=1\n",
    "            column_num+=1\n",
    "\n",
    "            "
   ]
  },
  {
   "cell_type": "code",
   "execution_count": 17,
   "id": "5af75db3",
   "metadata": {
    "scrolled": true
   },
   "outputs": [
    {
     "name": "stdout",
     "output_type": "stream",
     "text": [
      "Capture\n",
      "Saving Column 1\n",
      "Saving Column 2\n",
      "saving line 1\n",
      "saving word 1\n",
      "saving chracter 1\n",
      "saving chracter 2\n",
      "saving line 1\n",
      "saving word 1\n",
      "saving chracter 1\n",
      "saving chracter 2\n"
     ]
    }
   ],
   "source": [
    "text_extractor(\"C://Users//Hasnat//Desktop//CVIP ASSIGNMENT\")"
   ]
  }
 ],
 "metadata": {
  "kernelspec": {
   "display_name": "Python 3 (ipykernel)",
   "language": "python",
   "name": "python3"
  },
  "language_info": {
   "codemirror_mode": {
    "name": "ipython",
    "version": 3
   },
   "file_extension": ".py",
   "mimetype": "text/x-python",
   "name": "python",
   "nbconvert_exporter": "python",
   "pygments_lexer": "ipython3",
   "version": "3.9.6"
  }
 },
 "nbformat": 4,
 "nbformat_minor": 5
}
